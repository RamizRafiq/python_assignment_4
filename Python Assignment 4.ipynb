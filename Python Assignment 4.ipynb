{
 "cells": [
  {
   "cell_type": "code",
   "execution_count": 7,
   "metadata": {},
   "outputs": [
    {
     "name": "stdout",
     "output_type": "stream",
     "text": [
      "Addition of 12 and 4 is: 16\n",
      "Subtraction of 12 and 4 is: 8\n",
      "Division of 12 and 4 is: 3.0\n",
      "Multiplication of 12 and 4 is: 48\n",
      "2 to the power of 4 is: 16\n"
     ]
    }
   ],
   "source": [
    "# Q1 Calculator in python\n",
    "def addition(a,b):\n",
    "    return a+b\n",
    "\n",
    "def subtraction(a,b):\n",
    "    return a-b\n",
    "\n",
    "def division(a,b):\n",
    "    return a/b\n",
    "\n",
    "\n",
    "def multiplication(a,b):\n",
    "    return a*b\n",
    "\n",
    "def power(a,b):\n",
    "    return a**b\n",
    "\n",
    "# Addition\n",
    "print('Addition of 12 and 4 is:',addition(12,4))\n",
    "\n",
    "# Subtraction\n",
    "print('Subtraction of 12 and 4 is:',subtraction(12,4))\n",
    "\n",
    "# division\n",
    "print('Division of 12 and 4 is:',division(12,4))\n",
    "\n",
    "# multiplication\n",
    "print('Multiplication of 12 and 4 is:',multiplication(12,4))\n",
    "\n",
    "# power\n",
    "print('2 to the power of 4 is:',power(2,4))\n",
    "\n"
   ]
  },
  {
   "cell_type": "code",
   "execution_count": 39,
   "metadata": {},
   "outputs": [
    {
     "name": "stdout",
     "output_type": "stream",
     "text": [
      "3\n",
      "4\n"
     ]
    }
   ],
   "source": [
    "#  Q2 Check numeric value in list using for loop\n",
    "array=['1',3,'car','2',4,'bike']\n",
    "\n",
    "for i in array:\n",
    "    if(type(i) == int):\n",
    "        print(i)"
   ]
  },
  {
   "cell_type": "code",
   "execution_count": null,
   "metadata": {},
   "outputs": [],
   "source": [
    "#  Q 3\n",
    "numbers={1:1, 2:2, 3:3}\n",
    "numbers[4]=4\n",
    "\n",
    "print(numbers)"
   ]
  },
  {
   "cell_type": "code",
   "execution_count": 45,
   "metadata": {},
   "outputs": [
    {
     "name": "stdout",
     "output_type": "stream",
     "text": [
      "Sum of all numeric values in a dictionary is : 8\n"
     ]
    }
   ],
   "source": [
    "#  Q4 Sum all the numeric items in the dictionary\n",
    "multiTypes={\n",
    "    0:'car',\n",
    "    1:2,\n",
    "    2:'c',\n",
    "    3:5,\n",
    "    4:'bus',\n",
    "    5:1,\n",
    "}\n",
    "\n",
    "total=0\n",
    "for i in multiTypes.values():\n",
    "    if(type(i) == int):\n",
    "        total+=i\n",
    "    \n",
    "    \n",
    "print('Sum of all numeric values in a dictionary is :',total )\n"
   ]
  },
  {
   "cell_type": "code",
   "execution_count": 30,
   "metadata": {},
   "outputs": [
    {
     "name": "stdout",
     "output_type": "stream",
     "text": [
      "one duplicates in a list\n",
      "one duplicates in a list\n"
     ]
    }
   ],
   "source": [
    "# Q5 find duplicate values in a list\n",
    "arr =['one','two','three','one']\n",
    "\n",
    "for i in arr:\n",
    "    if arr.count(i)==2 :\n",
    "        print(i,'duplicates in a list')"
   ]
  },
  {
   "cell_type": "code",
   "execution_count": 64,
   "metadata": {},
   "outputs": [
    {
     "name": "stdout",
     "output_type": "stream",
     "text": [
      "Same key exists in a dictionary\n"
     ]
    }
   ],
   "source": [
    "# Q6 Check if a given key already exists in a dictionary\n",
    "dic={\n",
    "    0:1,\n",
    "    1:2,\n",
    "    2:3,\n",
    "    3:4\n",
    "}\n",
    "checkKey(key=0)\n",
    "\n",
    "def checkKey(key):\n",
    "    for x in dic.keys():\n",
    "        if(x==0):\n",
    "            print('Same key exists in a dictionary')\n",
    "\n"
   ]
  },
  {
   "cell_type": "code",
   "execution_count": null,
   "metadata": {},
   "outputs": [],
   "source": []
  }
 ],
 "metadata": {
  "kernelspec": {
   "display_name": "Python 3",
   "language": "python",
   "name": "python3"
  },
  "language_info": {
   "codemirror_mode": {
    "name": "ipython",
    "version": 3
   },
   "file_extension": ".py",
   "mimetype": "text/x-python",
   "name": "python",
   "nbconvert_exporter": "python",
   "pygments_lexer": "ipython3",
   "version": "3.7.6"
  }
 },
 "nbformat": 4,
 "nbformat_minor": 4
}
